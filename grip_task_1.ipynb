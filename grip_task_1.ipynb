{
  "nbformat": 4,
  "nbformat_minor": 0,
  "metadata": {
    "colab": {
      "name": "grip_task_1.ipynb",
      "provenance": [],
      "authorship_tag": "ABX9TyP3RcUHfhoKHRoxqJHES7A7",
      "include_colab_link": true
    },
    "kernelspec": {
      "name": "python3",
      "display_name": "Python 3"
    }
  },
  "cells": [
    {
      "cell_type": "markdown",
      "metadata": {
        "id": "view-in-github",
        "colab_type": "text"
      },
      "source": [
        "<a href=\"https://colab.research.google.com/github/jigyasa3003/book-selling-webite/blob/master/grip_task_1.ipynb\" target=\"_parent\"><img src=\"https://colab.research.google.com/assets/colab-badge.svg\" alt=\"Open In Colab\"/></a>"
      ]
    },
    {
      "cell_type": "code",
      "metadata": {
        "id": "oLCrcgOVNSqw"
      },
      "source": [
        "import pandas as pd\r\n",
        "import numpy as np  \r\n",
        "import matplotlib.pyplot as plt  \r\n",
        "%matplotlib inline"
      ],
      "execution_count": null,
      "outputs": []
    },
    {
      "cell_type": "code",
      "metadata": {
        "id": "PVUeBvF3NXkj"
      },
      "source": [
        "url = \"http://bit.ly/w-data\"\r\n",
        "s_data = pd.read_csv(url)"
      ],
      "execution_count": null,
      "outputs": []
    },
    {
      "cell_type": "code",
      "metadata": {
        "colab": {
          "base_uri": "https://localhost:8080/",
          "height": 355
        },
        "id": "Rc0vGw2NNZKX",
        "outputId": "50373f01-d14d-4aa7-c80c-2a2d60ff683d"
      },
      "source": [
        "s_data.head(10)"
      ],
      "execution_count": null,
      "outputs": [
        {
          "output_type": "execute_result",
          "data": {
            "text/html": [
              "<div>\n",
              "<style scoped>\n",
              "    .dataframe tbody tr th:only-of-type {\n",
              "        vertical-align: middle;\n",
              "    }\n",
              "\n",
              "    .dataframe tbody tr th {\n",
              "        vertical-align: top;\n",
              "    }\n",
              "\n",
              "    .dataframe thead th {\n",
              "        text-align: right;\n",
              "    }\n",
              "</style>\n",
              "<table border=\"1\" class=\"dataframe\">\n",
              "  <thead>\n",
              "    <tr style=\"text-align: right;\">\n",
              "      <th></th>\n",
              "      <th>Hours</th>\n",
              "      <th>Scores</th>\n",
              "    </tr>\n",
              "  </thead>\n",
              "  <tbody>\n",
              "    <tr>\n",
              "      <th>0</th>\n",
              "      <td>2.5</td>\n",
              "      <td>21</td>\n",
              "    </tr>\n",
              "    <tr>\n",
              "      <th>1</th>\n",
              "      <td>5.1</td>\n",
              "      <td>47</td>\n",
              "    </tr>\n",
              "    <tr>\n",
              "      <th>2</th>\n",
              "      <td>3.2</td>\n",
              "      <td>27</td>\n",
              "    </tr>\n",
              "    <tr>\n",
              "      <th>3</th>\n",
              "      <td>8.5</td>\n",
              "      <td>75</td>\n",
              "    </tr>\n",
              "    <tr>\n",
              "      <th>4</th>\n",
              "      <td>3.5</td>\n",
              "      <td>30</td>\n",
              "    </tr>\n",
              "    <tr>\n",
              "      <th>5</th>\n",
              "      <td>1.5</td>\n",
              "      <td>20</td>\n",
              "    </tr>\n",
              "    <tr>\n",
              "      <th>6</th>\n",
              "      <td>9.2</td>\n",
              "      <td>88</td>\n",
              "    </tr>\n",
              "    <tr>\n",
              "      <th>7</th>\n",
              "      <td>5.5</td>\n",
              "      <td>60</td>\n",
              "    </tr>\n",
              "    <tr>\n",
              "      <th>8</th>\n",
              "      <td>8.3</td>\n",
              "      <td>81</td>\n",
              "    </tr>\n",
              "    <tr>\n",
              "      <th>9</th>\n",
              "      <td>2.7</td>\n",
              "      <td>25</td>\n",
              "    </tr>\n",
              "  </tbody>\n",
              "</table>\n",
              "</div>"
            ],
            "text/plain": [
              "   Hours  Scores\n",
              "0    2.5      21\n",
              "1    5.1      47\n",
              "2    3.2      27\n",
              "3    8.5      75\n",
              "4    3.5      30\n",
              "5    1.5      20\n",
              "6    9.2      88\n",
              "7    5.5      60\n",
              "8    8.3      81\n",
              "9    2.7      25"
            ]
          },
          "metadata": {
            "tags": []
          },
          "execution_count": 4
        }
      ]
    },
    {
      "cell_type": "code",
      "metadata": {
        "colab": {
          "base_uri": "https://localhost:8080/",
          "height": 295
        },
        "id": "-Gu89jwpNeQL",
        "outputId": "76f0bac9-bc88-4cdd-b3c3-fa45c27d98cb"
      },
      "source": [
        "s_data.plot(x='Hours', y='Scores', style='+' ,c='r')\r\n",
        "plt.title('Hours vs Percentage')  \r\n",
        "plt.xlabel('Hours Studied')  \r\n",
        "plt.ylabel('Percentage Score')  \r\n",
        "plt.show()"
      ],
      "execution_count": null,
      "outputs": [
        {
          "output_type": "display_data",
          "data": {
            "image/png": "[encoded data removed]",
            "text/plain": [
              "<Figure size 432x288 with 1 Axes>"
            ]
          },
          "metadata": {
            "tags": [],
            "needs_background": "light"
          }
        }
      ]
    },
    {
      "cell_type": "code",
      "metadata": {
        "id": "OzaV_8XNNmjH"
      },
      "source": [
        "x= s_data.iloc[:, :-1].values  \r\n",
        "y = s_data.iloc[:, 1].values"
      ],
      "execution_count": null,
      "outputs": []
    },
    {
      "cell_type": "code",
      "metadata": {
        "colab": {
          "base_uri": "https://localhost:8080/"
        },
        "id": "kQIL3Pa9NxgA",
        "outputId": "816fb47d-2de2-4cc3-b6e6-1fd7aff5c90f"
      },
      "source": [
        "x_mean= x.mean()\r\n",
        "y_mean=y.mean()\r\n",
        "n=len(x)\r\n",
        "numer=0\r\n",
        "den=0\r\n",
        "for i in range (n):\r\n",
        "  numer+=(x[i]-x_mean)*(y[i]-y_mean)\r\n",
        "  den+=(x[i]-x_mean)**2\r\n",
        "m=numer/den\r\n",
        "\r\n",
        "c=y_mean-(m*x_mean)\r\n",
        "\r\n",
        "print(m,c)"
      ],
      "execution_count": null,
      "outputs": [
        {
          "output_type": "stream",
          "text": [
            "[9.77580339] [2.48367341]\n"
          ],
          "name": "stdout"
        }
      ]
    },
    {
      "cell_type": "code",
      "metadata": {
        "colab": {
          "base_uri": "https://localhost:8080/",
          "height": 265
        },
        "id": "Nj4cV-4wN-Vm",
        "outputId": "2377dbb3-0879-48c7-8a25-50274840f9f4"
      },
      "source": [
        "start=x.min()\r\n",
        "end=x.max()\r\n",
        "X=np.linspace(start,end) # draw line of predicted value(when actual is near to predict it is good model)\r\n",
        "Y=(m*X)+c\r\n",
        "\r\n",
        "plt.plot(X,Y, color='r')\r\n",
        "plt.scatter(x,y)\r\n",
        "plt.show()"
      ],
      "execution_count": null,
      "outputs": [
        {
          "output_type": "display_data",
          "data": {
            "image/png": "[encoded data removed]",
            "text/plain": [
              "<Figure size 432x288 with 1 Axes>"
            ]
          },
          "metadata": {
            "tags": [],
            "needs_background": "light"
          }
        }
      ]
    },
    {
      "cell_type": "code",
      "metadata": {
        "colab": {
          "base_uri": "https://localhost:8080/"
        },
        "id": "_HUaP9z9OHST",
        "outputId": "c12f044f-ebbc-4a6d-9124-1bd3b1ad2aed"
      },
      "source": [
        "r_num=0\r\n",
        "r_den=0\r\n",
        "for i in range(n):\r\n",
        "  y_pred=c+m *x[i]\r\n",
        " \r\n",
        "  print(y_pred)"
      ],
      "execution_count": null,
      "outputs": [
        {
          "output_type": "stream",
          "text": [
            "[26.92318188]\n",
            "[52.3402707]\n",
            "[33.76624426]\n",
            "[85.57800223]\n",
            "[36.69898527]\n",
            "[17.14737849]\n",
            "[92.4210646]\n",
            "[56.25059205]\n",
            "[83.62284155]\n",
            "[28.87834256]\n",
            "[77.75735951]\n",
            "[60.16091341]\n",
            "[46.47478866]\n",
            "[34.74382459]\n",
            "[13.23705714]\n",
            "[89.48832358]\n",
            "[26.92318188]\n",
            "[21.05769985]\n",
            "[62.11607409]\n",
            "[74.8246185]\n",
            "[28.87834256]\n",
            "[49.40752968]\n",
            "[39.63172629]\n",
            "[69.9367168]\n",
            "[78.73493985]\n"
          ],
          "name": "stdout"
        }
      ]
    },
    {
      "cell_type": "code",
      "metadata": {
        "colab": {
          "base_uri": "https://localhost:8080/"
        },
        "id": "YX7GAWKbTWrl",
        "outputId": "fc940b2c-7f44-41bb-811a-33b892a55bbd"
      },
      "source": [
        "r_num +=(y[i] - y_pred)**2\r\n",
        "r_den +=(y[i]-y_mean)**2\r\n",
        "r= (r_num/r_den)\r\n",
        "print(\"Mean absolute error\",r*100)"
      ],
      "execution_count": null,
      "outputs": [
        {
          "output_type": "stream",
          "text": [
            "Mean absolute error [4.42931793]\n"
          ],
          "name": "stdout"
        }
      ]
    },
    {
      "cell_type": "code",
      "metadata": {
        "colab": {
          "base_uri": "https://localhost:8080/"
        },
        "id": "26iE5ZbKPoYJ",
        "outputId": "d8a54acf-b7f7-4c46-b921-1812504a3364"
      },
      "source": [
        "print(\"No of hours\")\r\n",
        "a= float(input()) \r\n",
        "y_pred=(m*a)+c\r\n",
        "\r\n",
        "print(\"predicted score=\",y_pred)"
      ],
      "execution_count": null,
      "outputs": [
        {
          "output_type": "stream",
          "text": [
            "No of hours\n",
            "9.25\n",
            "predicted score= [92.90985477]\n"
          ],
          "name": "stdout"
        }
      ]
    }
  ]
}